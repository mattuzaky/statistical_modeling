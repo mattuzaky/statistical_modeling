{
 "cells": [
  {
   "cell_type": "markdown",
   "metadata": {},
   "source": [
    "# 一般化線形モデル"
   ]
  },
  {
   "cell_type": "markdown",
   "metadata": {},
   "source": [
    "## 個体ごとに平均種子数が異なる場合\n",
    "架空植物100個体を調査して得られた，個体ごとの種子数のデータ\n",
    "- 体サイズ(body size)：$x_i$\n",
    "- 処理のデータ\n",
    "    - 50個体は何も処理をしていない（処理C)\n",
    "    - 50個体は肥料を加える処理（処理T)"
   ]
  },
  {
   "cell_type": "code",
   "execution_count": 1,
   "metadata": {
    "collapsed": true
   },
   "outputs": [],
   "source": [
    "import pandas as pd\n",
    "d = pd.read_csv('data3a.csv')\n",
    "#data = df.iloc[:, 0].values\n",
    "#data"
   ]
  },
  {
   "cell_type": "markdown",
   "metadata": {},
   "source": [
    "## 観測されたデータの概要を調べる"
   ]
  },
  {
   "cell_type": "code",
   "execution_count": 4,
   "metadata": {
    "collapsed": false
   },
   "outputs": [
    {
     "data": {
      "text/plain": [
       "array([  8.31,   9.44,   9.5 ,   9.07,  10.16,   8.32,  10.61,  10.06,\n",
       "         9.93,  10.43,  10.36,  10.15,  10.92,   8.85,   9.42,  11.11,\n",
       "         8.02,  11.93,   8.55,   7.19,   9.83,  10.79,   8.89,  10.09,\n",
       "        11.63,  10.21,   9.45,  10.44,   9.44,  10.48,   9.43,  10.32,\n",
       "        10.33,   8.5 ,   9.41,   8.96,   9.67,  10.26,  10.36,  11.8 ,\n",
       "        10.94,  10.25,   8.74,  10.46,   9.37,   9.74,   8.95,   8.74,\n",
       "        11.32,   9.25,  10.14,   9.05,   9.89,   8.76,  12.04,   9.91,\n",
       "         9.84,  11.87,  10.16,   9.34,  10.17,  10.99,   9.19,  10.67,\n",
       "        10.96,  10.55,   9.69,  10.91,   9.6 ,  12.37,  10.54,  11.3 ,\n",
       "        12.4 ,  10.18,   9.53,  10.24,  11.76,   9.52,  10.4 ,   9.96,\n",
       "        10.3 ,  11.54,   9.42,  11.28,   9.73,  10.78,  10.21,  10.51,\n",
       "        10.73,   8.85,  11.2 ,   9.86,  11.54,  10.03,  11.88,   9.15,\n",
       "         8.52,  10.24,  10.86,   9.97])"
      ]
     },
     "execution_count": 4,
     "metadata": {},
     "output_type": "execute_result"
    }
   ],
   "source": [
    "d['x'].values"
   ]
  },
  {
   "cell_type": "code",
   "execution_count": 5,
   "metadata": {
    "collapsed": false
   },
   "outputs": [
    {
     "data": {
      "text/plain": [
       "array([ 6,  6,  6, 12, 10,  4,  9,  9,  9, 11,  6, 10,  6, 10, 11,  8,  3,\n",
       "        8,  5,  5,  4, 11,  5, 10,  6,  6,  7,  9,  3, 10,  2,  9, 10,  5,\n",
       "       11, 10,  4,  8,  9, 12,  8,  9,  8,  6,  6, 10, 10,  9, 12,  6, 14,\n",
       "        6,  7,  9,  6,  7,  9, 13,  9, 13,  7,  8, 10,  7, 12,  6, 15,  3,\n",
       "        4,  6, 10,  8,  8,  7,  5,  6,  8,  9,  9,  6,  7, 10,  6, 11, 11,\n",
       "       11,  5,  6,  4,  5,  6,  5,  8,  5,  9,  8,  6,  8,  7,  9])"
      ]
     },
     "execution_count": 5,
     "metadata": {},
     "output_type": "execute_result"
    }
   ],
   "source": [
    "d['y'].values"
   ]
  },
  {
   "cell_type": "code",
   "execution_count": 6,
   "metadata": {
    "collapsed": false
   },
   "outputs": [
    {
     "data": {
      "text/plain": [
       "array(['C', 'C', 'C', 'C', 'C', 'C', 'C', 'C', 'C', 'C', 'C', 'C', 'C',\n",
       "       'C', 'C', 'C', 'C', 'C', 'C', 'C', 'C', 'C', 'C', 'C', 'C', 'C',\n",
       "       'C', 'C', 'C', 'C', 'C', 'C', 'C', 'C', 'C', 'C', 'C', 'C', 'C',\n",
       "       'C', 'C', 'C', 'C', 'C', 'C', 'C', 'C', 'C', 'C', 'C', 'T', 'T',\n",
       "       'T', 'T', 'T', 'T', 'T', 'T', 'T', 'T', 'T', 'T', 'T', 'T', 'T',\n",
       "       'T', 'T', 'T', 'T', 'T', 'T', 'T', 'T', 'T', 'T', 'T', 'T', 'T',\n",
       "       'T', 'T', 'T', 'T', 'T', 'T', 'T', 'T', 'T', 'T', 'T', 'T', 'T',\n",
       "       'T', 'T', 'T', 'T', 'T', 'T', 'T', 'T', 'T'], dtype=object)"
      ]
     },
     "execution_count": 6,
     "metadata": {},
     "output_type": "execute_result"
    }
   ],
   "source": [
    "d['f'].values"
   ]
  },
  {
   "cell_type": "code",
   "execution_count": 8,
   "metadata": {
    "collapsed": false
   },
   "outputs": [
    {
     "data": {
      "text/html": [
       "<div>\n",
       "<table border=\"1\" class=\"dataframe\">\n",
       "  <thead>\n",
       "    <tr style=\"text-align: right;\">\n",
       "      <th></th>\n",
       "      <th>y</th>\n",
       "      <th>x</th>\n",
       "    </tr>\n",
       "  </thead>\n",
       "  <tbody>\n",
       "    <tr>\n",
       "      <th>count</th>\n",
       "      <td>100.000000</td>\n",
       "      <td>100.000000</td>\n",
       "    </tr>\n",
       "    <tr>\n",
       "      <th>mean</th>\n",
       "      <td>7.830000</td>\n",
       "      <td>10.089100</td>\n",
       "    </tr>\n",
       "    <tr>\n",
       "      <th>std</th>\n",
       "      <td>2.624881</td>\n",
       "      <td>1.008049</td>\n",
       "    </tr>\n",
       "    <tr>\n",
       "      <th>min</th>\n",
       "      <td>2.000000</td>\n",
       "      <td>7.190000</td>\n",
       "    </tr>\n",
       "    <tr>\n",
       "      <th>25%</th>\n",
       "      <td>6.000000</td>\n",
       "      <td>9.427500</td>\n",
       "    </tr>\n",
       "    <tr>\n",
       "      <th>50%</th>\n",
       "      <td>8.000000</td>\n",
       "      <td>10.155000</td>\n",
       "    </tr>\n",
       "    <tr>\n",
       "      <th>75%</th>\n",
       "      <td>10.000000</td>\n",
       "      <td>10.685000</td>\n",
       "    </tr>\n",
       "    <tr>\n",
       "      <th>max</th>\n",
       "      <td>15.000000</td>\n",
       "      <td>12.400000</td>\n",
       "    </tr>\n",
       "  </tbody>\n",
       "</table>\n",
       "</div>"
      ],
      "text/plain": [
       "                y           x\n",
       "count  100.000000  100.000000\n",
       "mean     7.830000   10.089100\n",
       "std      2.624881    1.008049\n",
       "min      2.000000    7.190000\n",
       "25%      6.000000    9.427500\n",
       "50%      8.000000   10.155000\n",
       "75%     10.000000   10.685000\n",
       "max     15.000000   12.400000"
      ]
     },
     "execution_count": 8,
     "metadata": {},
     "output_type": "execute_result"
    }
   ],
   "source": [
    "d.describe()"
   ]
  },
  {
   "cell_type": "markdown",
   "metadata": {},
   "source": [
    "## データの図示"
   ]
  },
  {
   "cell_type": "code",
   "execution_count": 2,
   "metadata": {
    "collapsed": false
   },
   "outputs": [
    {
     "data": {
      "image/png": "[encoded data removed]",
      "text/plain": [
       "<matplotlib.figure.Figure at 0x11514ac88>"
      ]
     },
     "metadata": {},
     "output_type": "display_data"
    }
   ],
   "source": [
    "%matplotlib inline\n",
    "import matplotlib.pyplot as plt\n",
    "\n",
    "plt.scatter(d.iloc[d['f'].values == 'C', 1].values, \n",
    "            d.iloc[d['f'].values == 'C', 0].values,\n",
    "            color = 'lightgreen',\n",
    "            label = 'C')\n",
    "plt.scatter(d.iloc[d['f'].values == 'T', 1].values, \n",
    "            d.iloc[d['f'].values == 'T', 0].values,\n",
    "            color = 'lightblue',\n",
    "            label = 'T')\n",
    "plt.xlabel('x')\n",
    "plt.ylabel('y')\n",
    "plt.legend(loc = 'upper left')\n",
    "plt.show()"
   ]
  },
  {
   "cell_type": "code",
   "execution_count": 22,
   "metadata": {
    "collapsed": false
   },
   "outputs": [
    {
     "data": {
      "image/png": "[encoded data removed]",
      "text/plain": [
       "<matplotlib.figure.Figure at 0x1154a8860>"
      ]
     },
     "metadata": {},
     "output_type": "display_data"
    }
   ],
   "source": [
    "points = (d.iloc[d['f'].values == 'C', 0].values, \n",
    "          d.iloc[d['f'].values == 'T', 0].values)\n",
    "\n",
    "fig, ax = plt.subplots()\n",
    "\n",
    "bp = ax.boxplot(points)\n",
    "ax.set_xticklabels(['C', 'T'])\n",
    "plt.xlabel('label')\n",
    "plt.ylabel('y')\n",
    "plt.grid()\n",
    "\n",
    "plt.show()"
   ]
  },
  {
   "cell_type": "markdown",
   "metadata": {},
   "source": [
    "### 線形予測子と対数リンク関数\n",
    "ある個体$i$に置いて種子数が$y_i$である確率$p(y_i | \\lambda_i)$はポアソン分布に従う．\n",
    "<div style=\"text-align: center;\">\n",
    "$p(y_i | \\lambda_i) = \\frac{\\lambda_i^{y_i} \\exp(-\\lambda)}{y_i !}$\n",
    "</div>\n",
    "この個体ごとに異なる平均$\\lambda_i$を説明変数$x_i$の関数として定義．  \n",
    "ある個体$i$の平均種子数$\\lambda_i$が\n",
    "### $\\lambda_i = \\exp(\\beta_1 + \\beta_2 x_i)$\n",
    "であるとする．（$\\beta_1$や$\\beta_2$をパラメータと呼ぶ）"
   ]
  },
  {
   "cell_type": "code",
   "execution_count": 3,
   "metadata": {
    "collapsed": true
   },
   "outputs": [],
   "source": [
    "import numpy as np\n",
    "def average_of_seeds(beta1, beta2, body_size):\n",
    "    return np.exp(beta1 + beta2 * body_size)"
   ]
  },
  {
   "cell_type": "code",
   "execution_count": 31,
   "metadata": {
    "collapsed": false
   },
   "outputs": [
    {
     "data": {
      "image/png": "[encoded data removed]",
      "text/plain": [
       "<matplotlib.figure.Figure at 0x115dd5780>"
      ]
     },
     "metadata": {},
     "output_type": "display_data"
    }
   ],
   "source": [
    "lambda1 = []\n",
    "lambda2 = []\n",
    "x = np.arange(-4, 5)\n",
    "for i in x:\n",
    "    lambda1.append(average_of_seeds(-2, -0.8, i))\n",
    "    lambda2.append(average_of_seeds(-1, 0.4, i))\n",
    "\n",
    "plt.plot(x, lambda1, linestyle = '--', color = 'lightgreen', label = 'beta1 = -2, beta2 = -0.8')\n",
    "plt.plot(x, lambda2, color = 'lightblue', label = 'beta1 = -1, beta2 = 0.4')\n",
    "plt.xlabel('body size x_i')\n",
    "plt.ylabel('average of seeds lambda_i')\n",
    "plt.legend(loc = 'upper right')\n",
    "plt.show()"
   ]
  },
  {
   "cell_type": "markdown",
   "metadata": {},
   "source": [
    "$\\lambda_i = \\exp(\\beta_1 + \\beta_2 x_i)$\n",
    "は\n",
    "$\\log \\lambda_i = \\beta_1 + \\beta_2 x_i$\n",
    "と変形できる．  \n",
    "$\\beta_1 + \\beta_2 x_i$は線形予測子と呼ばれる．  \n",
    "（$\\lambda_i$の関数）＝（線形予測子）となっている場合，左辺の「関数」はリンク関数と呼ばれる．"
   ]
  },
  {
   "cell_type": "markdown",
   "metadata": {},
   "source": [
    "### あてはめとあてはまりの良さ\n",
    "対数尤度$\\log L$が最大になるパラメータ$\\hat{\\beta_1}$と$\\hat{\\beta_2}$を決める．  \n",
    "データ$\\bf Y$の元でのこのモデルの対数尤度は  \n",
    "### $\\log L (\\beta_1, \\beta_2) = \\sum_{i} \\log \\frac{\\lambda_i^{y_i} \\exp(-\\lambda)}{y_i !}$  \n",
    "となる．線形予測子は$\\log \\lambda_i = \\beta_1 + \\beta_2 x_i$なので$\\lambda_i$は$\\beta_1$と $\\beta_2$の関数である．"
   ]
  },
  {
   "cell_type": "code",
   "execution_count": 4,
   "metadata": {
    "collapsed": false
   },
   "outputs": [
    {
     "data": {
      "text/html": [
       "<table class=\"simpletable\">\n",
       "<caption>Generalized Linear Model Regression Results</caption>\n",
       "<tr>\n",
       "  <th>Dep. Variable:</th>          <td>y</td>        <th>  No. Observations:  </th>  <td>   100</td> \n",
       "</tr>\n",
       "<tr>\n",
       "  <th>Model:</th>                 <td>GLM</td>       <th>  Df Residuals:      </th>  <td>    98</td> \n",
       "</tr>\n",
       "<tr>\n",
       "  <th>Model Family:</th>        <td>Poisson</td>     <th>  Df Model:          </th>  <td>     1</td> \n",
       "</tr>\n",
       "<tr>\n",
       "  <th>Link Function:</th>         <td>log</td>       <th>  Scale:             </th>    <td>1.0</td>  \n",
       "</tr>\n",
       "<tr>\n",
       "  <th>Method:</th>               <td>IRLS</td>       <th>  Log-Likelihood:    </th> <td> -235.39</td>\n",
       "</tr>\n",
       "<tr>\n",
       "  <th>Date:</th>           <td>Fri, 14 Sep 2018</td> <th>  Deviance:          </th> <td>  84.993</td>\n",
       "</tr>\n",
       "<tr>\n",
       "  <th>Time:</th>               <td>16:48:43</td>     <th>  Pearson chi2:      </th>  <td>  83.8</td> \n",
       "</tr>\n",
       "<tr>\n",
       "  <th>No. Iterations:</th>         <td>7</td>        <th>                     </th>     <td> </td>   \n",
       "</tr>\n",
       "</table>\n",
       "<table class=\"simpletable\">\n",
       "<tr>\n",
       "    <td></td>       <th>coef</th>     <th>std err</th>      <th>z</th>      <th>P>|z|</th> <th>[95.0% Conf. Int.]</th> \n",
       "</tr>\n",
       "<tr>\n",
       "  <th>const</th> <td>    1.2917</td> <td>    0.364</td> <td>    3.552</td> <td> 0.000</td> <td>    0.579     2.005</td>\n",
       "</tr>\n",
       "<tr>\n",
       "  <th>x</th>     <td>    0.0757</td> <td>    0.036</td> <td>    2.125</td> <td> 0.034</td> <td>    0.006     0.145</td>\n",
       "</tr>\n",
       "</table>"
      ],
      "text/plain": [
       "<class 'statsmodels.iolib.summary.Summary'>\n",
       "\"\"\"\n",
       "                 Generalized Linear Model Regression Results                  \n",
       "==============================================================================\n",
       "Dep. Variable:                      y   No. Observations:                  100\n",
       "Model:                            GLM   Df Residuals:                       98\n",
       "Model Family:                 Poisson   Df Model:                            1\n",
       "Link Function:                    log   Scale:                             1.0\n",
       "Method:                          IRLS   Log-Likelihood:                -235.39\n",
       "Date:                Fri, 14 Sep 2018   Deviance:                       84.993\n",
       "Time:                        16:48:43   Pearson chi2:                     83.8\n",
       "No. Iterations:                     7                                         \n",
       "==============================================================================\n",
       "                 coef    std err          z      P>|z|      [95.0% Conf. Int.]\n",
       "------------------------------------------------------------------------------\n",
       "const          1.2917      0.364      3.552      0.000         0.579     2.005\n",
       "x              0.0757      0.036      2.125      0.034         0.006     0.145\n",
       "==============================================================================\n",
       "\"\"\""
      ]
     },
     "execution_count": 4,
     "metadata": {},
     "output_type": "execute_result"
    }
   ],
   "source": [
    "import statsmodels.api as sm\n",
    "\n",
    "d.x_c = sm.add_constant(d.x)\n",
    "model = sm.GLM(d.y, d.x_c, family = sm.families.Poisson())\n",
    "result = model.fit()\n",
    "result.summary()"
   ]
  },
  {
   "cell_type": "markdown",
   "metadata": {},
   "source": [
    "### ポアソン回帰モデルによる予測\n",
    "ポアソン回帰の推定結果を使って，様々な体サイズ$x$に置ける平均種子数$\\lambda$の予測を行う．"
   ]
  },
  {
   "cell_type": "code",
   "execution_count": 42,
   "metadata": {
    "collapsed": false
   },
   "outputs": [
    {
     "data": {
      "image/png": "[encoded data removed]",
      "text/plain": [
       "<matplotlib.figure.Figure at 0x118230080>"
      ]
     },
     "metadata": {},
     "output_type": "display_data"
    }
   ],
   "source": [
    "lamb = []\n",
    "x = np.arange(7, 14)\n",
    "for i in x:\n",
    "    lamb.append(average_of_seeds(1.29, 0.0757, i))\n",
    "plt.plot(x, lamb, color = 'red')\n",
    "plt.scatter(d.iloc[d['f'].values == 'C', 1].values, \n",
    "            d.iloc[d['f'].values == 'C', 0].values,\n",
    "            color = 'lightgreen',\n",
    "            label = 'C')\n",
    "plt.scatter(d.iloc[d['f'].values == 'T', 1].values, \n",
    "            d.iloc[d['f'].values == 'T', 0].values,\n",
    "            color = 'lightblue',\n",
    "            label = 'T')\n",
    "plt.xlabel('x')\n",
    "plt.ylabel('y')\n",
    "plt.legend(loc = 'upper left')\n",
    "plt.show()"
   ]
  },
  {
   "cell_type": "markdown",
   "metadata": {},
   "source": [
    "## 説明変数が因子型の統計モデル\n",
    "施肥効果$f_i$だけが影響するモデルの平均値を\n",
    "### $\\lambda_i = \\exp(\\beta_1 + \\beta_2 d_i)$  \n",
    "と書く．  \n",
    "ダミー変数$d_i$について\n",
    "- $d_i = 0$ $(f_i = C)$\n",
    "- $d_i = 1$ $(f_i = T)$"
   ]
  },
  {
   "cell_type": "code",
   "execution_count": 5,
   "metadata": {
    "collapsed": false
   },
   "outputs": [],
   "source": [
    "dummy = []\n",
    "for i in range(len(d)):\n",
    "    if d.iloc[i, 2] == 'C':\n",
    "        dummy.append(0)\n",
    "    else:\n",
    "        dummy.append(1)\n",
    "d.f_c = sm.add_constant(dummy)\n",
    "model = sm.GLM(d.y, d.f_c, family = sm.families.Poisson())\n",
    "result = model.fit()"
   ]
  },
  {
   "cell_type": "code",
   "execution_count": 62,
   "metadata": {
    "collapsed": false
   },
   "outputs": [
    {
     "data": {
      "text/html": [
       "<table class=\"simpletable\">\n",
       "<caption>Generalized Linear Model Regression Results</caption>\n",
       "<tr>\n",
       "  <th>Dep. Variable:</th>          <td>y</td>        <th>  No. Observations:  </th>  <td>   100</td> \n",
       "</tr>\n",
       "<tr>\n",
       "  <th>Model:</th>                 <td>GLM</td>       <th>  Df Residuals:      </th>  <td>    98</td> \n",
       "</tr>\n",
       "<tr>\n",
       "  <th>Model Family:</th>        <td>Poisson</td>     <th>  Df Model:          </th>  <td>     1</td> \n",
       "</tr>\n",
       "<tr>\n",
       "  <th>Link Function:</th>         <td>log</td>       <th>  Scale:             </th>    <td>1.0</td>  \n",
       "</tr>\n",
       "<tr>\n",
       "  <th>Method:</th>               <td>IRLS</td>       <th>  Log-Likelihood:    </th> <td> -237.63</td>\n",
       "</tr>\n",
       "<tr>\n",
       "  <th>Date:</th>           <td>Tue, 11 Sep 2018</td> <th>  Deviance:          </th> <td>  89.475</td>\n",
       "</tr>\n",
       "<tr>\n",
       "  <th>Time:</th>               <td>21:08:34</td>     <th>  Pearson chi2:      </th>  <td>  87.1</td> \n",
       "</tr>\n",
       "<tr>\n",
       "  <th>No. Iterations:</th>         <td>7</td>        <th>                     </th>     <td> </td>   \n",
       "</tr>\n",
       "</table>\n",
       "<table class=\"simpletable\">\n",
       "<tr>\n",
       "    <td></td>       <th>coef</th>     <th>std err</th>      <th>z</th>      <th>P>|z|</th> <th>[95.0% Conf. Int.]</th> \n",
       "</tr>\n",
       "<tr>\n",
       "  <th>const</th> <td>    2.0516</td> <td>    0.051</td> <td>   40.463</td> <td> 0.000</td> <td>    1.952     2.151</td>\n",
       "</tr>\n",
       "<tr>\n",
       "  <th>x1</th>    <td>    0.0128</td> <td>    0.071</td> <td>    0.179</td> <td> 0.858</td> <td>   -0.127     0.153</td>\n",
       "</tr>\n",
       "</table>"
      ],
      "text/plain": [
       "<class 'statsmodels.iolib.summary.Summary'>\n",
       "\"\"\"\n",
       "                 Generalized Linear Model Regression Results                  \n",
       "==============================================================================\n",
       "Dep. Variable:                      y   No. Observations:                  100\n",
       "Model:                            GLM   Df Residuals:                       98\n",
       "Model Family:                 Poisson   Df Model:                            1\n",
       "Link Function:                    log   Scale:                             1.0\n",
       "Method:                          IRLS   Log-Likelihood:                -237.63\n",
       "Date:                Tue, 11 Sep 2018   Deviance:                       89.475\n",
       "Time:                        21:08:34   Pearson chi2:                     87.1\n",
       "No. Iterations:                     7                                         \n",
       "==============================================================================\n",
       "                 coef    std err          z      P>|z|      [95.0% Conf. Int.]\n",
       "------------------------------------------------------------------------------\n",
       "const          2.0516      0.051     40.463      0.000         1.952     2.151\n",
       "x1             0.0128      0.071      0.179      0.858        -0.127     0.153\n",
       "==============================================================================\n",
       "\"\"\""
      ]
     },
     "execution_count": 62,
     "metadata": {},
     "output_type": "execute_result"
    }
   ],
   "source": [
    "result.summary()"
   ]
  },
  {
   "cell_type": "markdown",
   "metadata": {},
   "source": [
    "個体$i$の$f_i$がCの場合\n",
    "- $\\lambda_i = \\exp(2.05 + 0) = 7.77$\n",
    "\n",
    "個体$i$の$f_i$がTの場合\n",
    "- $\\lambda_i = \\exp(2.05 + 0.0128) = 7.87$\n",
    "\n",
    "「肥料をやると平均種子数がほんの少しだけ増える」"
   ]
  },
  {
   "cell_type": "markdown",
   "metadata": {},
   "source": [
    "## 説明変数が数量型＋因子型の統計モデル\n",
    "個体の体サイズ$x_i$と施肥効果$f_i$の説明変数を同時に組み込んだ統計モデル\n",
    "### $\\log \\lambda_i = \\beta_1 + \\beta_2 x_i + \\beta_3 d_i$\n"
   ]
  },
  {
   "cell_type": "code",
   "execution_count": 26,
   "metadata": {
    "collapsed": false
   },
   "outputs": [],
   "source": [
    "from sklearn.preprocessing import LabelEncoder\n",
    "\n",
    "class_le = LabelEncoder()\n",
    "xf = np.c_[np.ones(len(d)), \n",
    "           d['x'].values, \n",
    "           np.array(class_le.fit_transform(d['f'].values))]\n",
    "model = sm.GLM(d.y, d.f_c, family = sm.families.Poisson())\n",
    "result = model.fit()"
   ]
  },
  {
   "cell_type": "code",
   "execution_count": 31,
   "metadata": {
    "collapsed": false
   },
   "outputs": [
    {
     "data": {
      "text/html": [
       "<table class=\"simpletable\">\n",
       "<caption>Generalized Linear Model Regression Results</caption>\n",
       "<tr>\n",
       "  <th>Dep. Variable:</th>          <td>y</td>        <th>  No. Observations:  </th>  <td>   100</td> \n",
       "</tr>\n",
       "<tr>\n",
       "  <th>Model:</th>                 <td>GLM</td>       <th>  Df Residuals:      </th>  <td>    97</td> \n",
       "</tr>\n",
       "<tr>\n",
       "  <th>Model Family:</th>        <td>Poisson</td>     <th>  Df Model:          </th>  <td>     2</td> \n",
       "</tr>\n",
       "<tr>\n",
       "  <th>Link Function:</th>         <td>log</td>       <th>  Scale:             </th>    <td>1.0</td>  \n",
       "</tr>\n",
       "<tr>\n",
       "  <th>Method:</th>               <td>IRLS</td>       <th>  Log-Likelihood:    </th> <td> -235.29</td>\n",
       "</tr>\n",
       "<tr>\n",
       "  <th>Date:</th>           <td>Fri, 14 Sep 2018</td> <th>  Deviance:          </th> <td>  84.808</td>\n",
       "</tr>\n",
       "<tr>\n",
       "  <th>Time:</th>               <td>17:12:30</td>     <th>  Pearson chi2:      </th>  <td>  83.8</td> \n",
       "</tr>\n",
       "<tr>\n",
       "  <th>No. Iterations:</th>         <td>7</td>        <th>                     </th>     <td> </td>   \n",
       "</tr>\n",
       "</table>\n",
       "<table class=\"simpletable\">\n",
       "<tr>\n",
       "    <td></td>       <th>coef</th>     <th>std err</th>      <th>z</th>      <th>P>|z|</th> <th>[95.0% Conf. Int.]</th> \n",
       "</tr>\n",
       "<tr>\n",
       "  <th>const</th> <td>    1.2631</td> <td>    0.370</td> <td>    3.417</td> <td> 0.001</td> <td>    0.539     1.988</td>\n",
       "</tr>\n",
       "<tr>\n",
       "  <th>x1</th>    <td>    0.0801</td> <td>    0.037</td> <td>    2.162</td> <td> 0.031</td> <td>    0.007     0.153</td>\n",
       "</tr>\n",
       "<tr>\n",
       "  <th>x2</th>    <td>   -0.0320</td> <td>    0.074</td> <td>   -0.430</td> <td> 0.667</td> <td>   -0.178     0.114</td>\n",
       "</tr>\n",
       "</table>"
      ],
      "text/plain": [
       "<class 'statsmodels.iolib.summary.Summary'>\n",
       "\"\"\"\n",
       "                 Generalized Linear Model Regression Results                  \n",
       "==============================================================================\n",
       "Dep. Variable:                      y   No. Observations:                  100\n",
       "Model:                            GLM   Df Residuals:                       97\n",
       "Model Family:                 Poisson   Df Model:                            2\n",
       "Link Function:                    log   Scale:                             1.0\n",
       "Method:                          IRLS   Log-Likelihood:                -235.29\n",
       "Date:                Fri, 14 Sep 2018   Deviance:                       84.808\n",
       "Time:                        17:12:30   Pearson chi2:                     83.8\n",
       "No. Iterations:                     7                                         \n",
       "==============================================================================\n",
       "                 coef    std err          z      P>|z|      [95.0% Conf. Int.]\n",
       "------------------------------------------------------------------------------\n",
       "const          1.2631      0.370      3.417      0.001         0.539     1.988\n",
       "x1             0.0801      0.037      2.162      0.031         0.007     0.153\n",
       "x2            -0.0320      0.074     -0.430      0.667        -0.178     0.114\n",
       "==============================================================================\n",
       "\"\"\""
      ]
     },
     "execution_count": 31,
     "metadata": {},
     "output_type": "execute_result"
    }
   ],
   "source": [
    "result.summary()"
   ]
  },
  {
   "cell_type": "markdown",
   "metadata": {},
   "source": [
    "x1：x  \n",
    "x2：fT"
   ]
  },
  {
   "cell_type": "markdown",
   "metadata": {},
   "source": [
    "このモデルの推定結果を予測としてまとめると，体サイズ$x_i$の個体$i$の施肥処理$f_i$がCならば平均種子数は\n",
    "### $\\lambda_i = \\exp(1.26 + 0.08x_i)$\n",
    "$f_i$がTならば，\n",
    "### $\\lambda_i = \\exp(1.26 + 0.08x_i - 0.032)$\n",
    "となる．"
   ]
  },
  {
   "cell_type": "markdown",
   "metadata": {},
   "source": [
    "## 対数リンク関数を使用した場合と恒等関数を利用した場合の種子数"
   ]
  },
  {
   "cell_type": "code",
   "execution_count": 47,
   "metadata": {
    "collapsed": false
   },
   "outputs": [
    {
     "data": {
      "image/png": "[encoded data removed]",
      "text/plain": [
       "<matplotlib.figure.Figure at 0x11bcf04e0>"
      ]
     },
     "metadata": {},
     "output_type": "display_data"
    }
   ],
   "source": [
    "log_lambda1 = []\n",
    "log_lambda2 = []\n",
    "lambda1 = []\n",
    "lambda2 = []\n",
    "x = np.arange(5, 21)\n",
    "\n",
    "for i in x:\n",
    "    log_lambda1.append(np.exp(1.26 + 0.08 * i))\n",
    "    log_lambda2.append(np.exp(1.26 + 0.08 * i - 0.032))\n",
    "\n",
    "for i in x:\n",
    "    lambda1.append(1.27 + 0.661 * i)\n",
    "    lambda2.append(1.27 + 0.661 * i - 0.205)\n",
    "\n",
    "fig, ax = plt.subplots(1, 2)\n",
    "ax[0].plot(x, log_lambda1, linestyle = '--', color = 'lightgreen', label = 'C')\n",
    "ax[0].plot(x, log_lambda2, color = 'lightblue', label = 'T')\n",
    "ax[0].set_title('Log link function')\n",
    "\n",
    "ax[1].plot(x, lambda1, linestyle = '--', color = 'lightgreen', label = 'C')\n",
    "ax[1].plot(x, lambda2, color = 'lightblue', label = 'T')\n",
    "ax[1].set_title('Identity link function')\n",
    "plt.show()"
   ]
  },
  {
   "cell_type": "markdown",
   "metadata": {},
   "source": [
    "## ポアソン分布利用の妥当性\n",
    "このデータをポアソン分布を使ったGLMで説明しようとするのは比較的妥当\n",
    "- ポアソン分布を使っているのでカウントデータに正しく対応\n",
    "- 対数リンク関数を使えば平均値は常に非負\n",
    "- $y$のばらつきは平均とともに増大する\n",
    "\n",
    "## 「なんでも正規分布」，「なんでも直線」から脱却\n",
    "GLMの特徴はデータに合わせて確率分布とリンク関数を選べる点  \n",
    "適切なものを選びましょう"
   ]
  }
 ],
 "metadata": {
  "kernelspec": {
   "display_name": "Python 3",
   "language": "python",
   "name": "python3"
  },
  "language_info": {
   "codemirror_mode": {
    "name": "ipython",
    "version": 3
   },
   "file_extension": ".py",
   "mimetype": "text/x-python",
   "name": "python",
   "nbconvert_exporter": "python",
   "pygments_lexer": "ipython3",
   "version": "3.6.0"
  }
 },
 "nbformat": 4,
 "nbformat_minor": 2
}
