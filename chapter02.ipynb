{
 "cells": [
  {
   "cell_type": "markdown",
   "metadata": {},
   "source": [
    "# 確率分布と統計モデルの最尤推定"
   ]
  },
  {
   "cell_type": "markdown",
   "metadata": {},
   "source": [
    "## 種子数の統計モデリング\n",
    "- 架空の植物50個体からなる集団の調査\n",
    "- 各個体の種子数を数えたものがデータ"
   ]
  },
  {
   "cell_type": "code",
   "execution_count": 1,
   "metadata": {
    "collapsed": false
   },
   "outputs": [
    {
     "data": {
      "text/plain": [
       "array([2, 2, 4, 6, 4, 5, 2, 3, 1, 2, 0, 4, 3, 3, 3, 3, 4, 2, 7, 2, 4, 3, 3,\n",
       "       3, 4, 3, 7, 5, 3, 1, 7, 6, 4, 6, 5, 2, 4, 7, 2, 2, 6, 2, 4, 5, 4, 5,\n",
       "       1, 3, 2, 3])"
      ]
     },
     "execution_count": 1,
     "metadata": {},
     "output_type": "execute_result"
    }
   ],
   "source": [
    "import pandas as pd\n",
    "df = pd.read_csv('data.csv')\n",
    "data = df.iloc[:, 0].values\n",
    "data"
   ]
  },
  {
   "cell_type": "markdown",
   "metadata": {},
   "source": [
    "### 統計量"
   ]
  },
  {
   "cell_type": "code",
   "execution_count": 2,
   "metadata": {
    "collapsed": false
   },
   "outputs": [
    {
     "name": "stdout",
     "output_type": "stream",
     "text": [
      "Min. 0.00\n",
      "1st Qu. 2.00\n",
      "Median 3.00\n",
      "Mean 3.56\n",
      "3rd Qu. 4.75\n",
      "Max. 7.00\n"
     ]
    }
   ],
   "source": [
    "import numpy as np\n",
    "from scipy import stats\n",
    "\n",
    "print('Min. %.2f' % data.min())\n",
    "print('1st Qu. %.2f' % stats.scoreatpercentile(data, 25))\n",
    "print('Median %.2f' % np.median(data))\n",
    "print('Mean %.2f' % np.mean(data))\n",
    "print('3rd Qu. %.2f' % stats.scoreatpercentile(data, 75))\n",
    "print('Max. %.2f' % data.max())"
   ]
  },
  {
   "cell_type": "markdown",
   "metadata": {},
   "source": [
    "### Rのsummary()"
   ]
  },
  {
   "cell_type": "code",
   "execution_count": 27,
   "metadata": {
    "collapsed": false
   },
   "outputs": [
    {
     "data": {
      "text/html": [
       "<div>\n",
       "<table border=\"1\" class=\"dataframe\">\n",
       "  <thead>\n",
       "    <tr style=\"text-align: right;\">\n",
       "      <th></th>\n",
       "      <th>Seed</th>\n",
       "    </tr>\n",
       "  </thead>\n",
       "  <tbody>\n",
       "    <tr>\n",
       "      <th>count</th>\n",
       "      <td>50.00000</td>\n",
       "    </tr>\n",
       "    <tr>\n",
       "      <th>mean</th>\n",
       "      <td>3.56000</td>\n",
       "    </tr>\n",
       "    <tr>\n",
       "      <th>std</th>\n",
       "      <td>1.72804</td>\n",
       "    </tr>\n",
       "    <tr>\n",
       "      <th>min</th>\n",
       "      <td>0.00000</td>\n",
       "    </tr>\n",
       "    <tr>\n",
       "      <th>25%</th>\n",
       "      <td>2.00000</td>\n",
       "    </tr>\n",
       "    <tr>\n",
       "      <th>50%</th>\n",
       "      <td>3.00000</td>\n",
       "    </tr>\n",
       "    <tr>\n",
       "      <th>75%</th>\n",
       "      <td>4.75000</td>\n",
       "    </tr>\n",
       "    <tr>\n",
       "      <th>max</th>\n",
       "      <td>7.00000</td>\n",
       "    </tr>\n",
       "  </tbody>\n",
       "</table>\n",
       "</div>"
      ],
      "text/plain": [
       "           Seed\n",
       "count  50.00000\n",
       "mean    3.56000\n",
       "std     1.72804\n",
       "min     0.00000\n",
       "25%     2.00000\n",
       "50%     3.00000\n",
       "75%     4.75000\n",
       "max     7.00000"
      ]
     },
     "execution_count": 27,
     "metadata": {},
     "output_type": "execute_result"
    }
   ],
   "source": [
    "df.describe()"
   ]
  },
  {
   "cell_type": "markdown",
   "metadata": {},
   "source": [
    "### 度数分布とヒストグラム"
   ]
  },
  {
   "cell_type": "code",
   "execution_count": 3,
   "metadata": {
    "collapsed": false
   },
   "outputs": [
    {
     "data": {
      "text/plain": [
       "<matplotlib.text.Text at 0x11823c240>"
      ]
     },
     "execution_count": 3,
     "metadata": {},
     "output_type": "execute_result"
    },
    {
     "data": {
      "image/png": "[encoded data removed]",
      "text/plain": [
       "<matplotlib.figure.Figure at 0x117f070f0>"
      ]
     },
     "metadata": {},
     "output_type": "display_data"
    }
   ],
   "source": [
    "%matplotlib inline\n",
    "import matplotlib.pyplot as plt\n",
    "\n",
    "plt.hist(data, bins = len(np.unique(data)), rwidth = 0.9, color = 'lightgreen')\n",
    "plt.xlabel('data')\n",
    "plt.ylabel('Frequency')"
   ]
  },
  {
   "cell_type": "markdown",
   "metadata": {},
   "source": [
    "## データと確率分布の対応関係"
   ]
  },
  {
   "cell_type": "markdown",
   "metadata": {},
   "source": [
    "種子数データの特徴\n",
    "- 数えられるカウントデータ\n",
    "- 1個体の種子数の標本平均は3.56個\n",
    "- 個体ごとに種子数にばらつきがあり，ヒストグラムを書くと一山の分布になる"
   ]
  },
  {
   "cell_type": "markdown",
   "metadata": {},
   "source": [
    "## ポアソン分布\n",
    "## $p(y | \\lambda) = \\frac{\\lambda^y \\exp(- \\lambda)}{y!}$\n",
    "- $p(y | \\lambda)$：平均が$\\lambda$であるときに，ポアソン分布に従う確率変数が$y$という値になる確率\n",
    "- $\\sum_{y} p(y | \\lambda) = 1$\n",
    "- 確率分布の平均は$\\lambda$である$(\\lambda \\geq 0)$\n",
    "- 分散と平均は等しい：$\\lambda = 平均 = 分散$"
   ]
  },
  {
   "cell_type": "code",
   "execution_count": 4,
   "metadata": {
    "collapsed": true
   },
   "outputs": [],
   "source": [
    "import math\n",
    "import numpy as np\n",
    "\n",
    "def poisson(y, lamb):\n",
    "    return (pow(lamb, y) * np.exp(-lamb)) / math.factorial(y)"
   ]
  },
  {
   "cell_type": "code",
   "execution_count": 5,
   "metadata": {
    "collapsed": false
   },
   "outputs": [
    {
     "data": {
      "image/png": "[encoded data removed]",
      "text/plain": [
       "<matplotlib.figure.Figure at 0x118313cf8>"
      ]
     },
     "metadata": {},
     "output_type": "display_data"
    }
   ],
   "source": [
    "lamb = [3.5, 7.7, 15.1]\n",
    "y = 21\n",
    "for l in lamb:\n",
    "    p = []\n",
    "    for i in range(y):\n",
    "        p.append(poisson(i, l))\n",
    "    plt.plot(np.arange(0, y), p, marker = 'o', linestyle = '--', label = str(l))\n",
    "    \n",
    "plt.xlim(-1, 21)\n",
    "plt.xlabel('y')\n",
    "plt.ylabel('Prob')\n",
    "plt.legend(title = 'lambda', loc = 'upper right')\n",
    "plt.show()"
   ]
  },
  {
   "cell_type": "markdown",
   "metadata": {},
   "source": [
    "### ポアソン分布が選ばれる理由\n",
    "1. データに含まれている値$y_i$が非負の整数\n",
    "1. $y_i$に下限（ゼロ）はあるが，上限はよくわからない\n",
    "1. 観測データの平均と分散がだいたい等しい"
   ]
  },
  {
   "cell_type": "markdown",
   "metadata": {},
   "source": [
    "## ポアソン分布のパラメータの最尤推定\n",
    "尤度：あてはまりの良さ  \n",
    "尤度を表す統計量を最大にするようなパラメータの値を探すパラメータ推定方法"
   ]
  },
  {
   "cell_type": "markdown",
   "metadata": {},
   "source": [
    "### $L(\\lambda) = \\prod_{i} p(y_i | \\lambda) = \\prod_{i} \\frac{\\lambda^{y_i} \\exp(-\\lambda)}{y_i !}$\n",
    "尤度関数$L(\\lambda)$は扱いにくいので，対数変換した尤度貫通を使って最尤推定\n",
    "### $\\log L(\\lambda) = \\sum_{i}\\left(y_i \\log \\lambda - \\lambda - \\sum_{k}^{y_i} \\log k \\right)$\n",
    "対数尤度が大きい（ゼロに近い）ほど観測データとポアソン分布が「似ている」"
   ]
  },
  {
   "cell_type": "code",
   "execution_count": 35,
   "metadata": {
    "collapsed": false
   },
   "outputs": [],
   "source": [
    "def sum_log(k):\n",
    "    sigma = 0\n",
    "    for i in range(k):\n",
    "        sigma += np.log(i + 1)\n",
    "    return sigma\n",
    "\n",
    "def log_l(y, lamb):\n",
    "    l = 0\n",
    "    for i in range(len(y)):\n",
    "        l += y[i] * np.log(lamb) - lamb - sum_log(y[i])\n",
    "    return l"
   ]
  },
  {
   "cell_type": "code",
   "execution_count": 36,
   "metadata": {
    "collapsed": false
   },
   "outputs": [
    {
     "name": "stdout",
     "output_type": "stream",
     "text": [
      "-----\n",
      "lambda = 2.0\n",
      "log L = -121.88\n",
      "-----\n",
      "lambda = 2.4\n",
      "log L = -109.43\n",
      "-----\n",
      "lambda = 2.8\n",
      "log L = -101.99\n",
      "-----\n",
      "lambda = 3.2\n",
      "log L = -98.22\n",
      "-----\n",
      "lambda = 3.6\n",
      "log L = -97.26\n",
      "-----\n",
      "lambda = 4.0\n",
      "log L = -98.50\n",
      "-----\n",
      "lambda = 4.4\n",
      "log L = -101.54\n",
      "-----\n",
      "lambda = 4.8\n",
      "log L = -106.05\n",
      "-----\n",
      "lambda = 5.2\n",
      "log L = -111.80\n"
     ]
    }
   ],
   "source": [
    "lamb = np.arange(2.0, 5.3, 0.4)\n",
    "for i in range(len(lamb)):\n",
    "    L = log_l(data, lamb[i])\n",
    "    print('-----')\n",
    "    print('lambda = %.1f' % lamb[i])\n",
    "    print('log L = %.2f' % L)"
   ]
  },
  {
   "cell_type": "markdown",
   "metadata": {},
   "source": [
    "ポアソン分布と観測データの当てはまり（lambda = 3.6）"
   ]
  },
  {
   "cell_type": "code",
   "execution_count": 48,
   "metadata": {
    "collapsed": false
   },
   "outputs": [
    {
     "data": {
      "image/png": "[encoded data removed]",
      "text/plain": [
       "<matplotlib.figure.Figure at 0x11b974160>"
      ]
     },
     "metadata": {},
     "output_type": "display_data"
    }
   ],
   "source": [
    "y = 21\n",
    "\n",
    "p = []\n",
    "for i in range(y):\n",
    "    p.append(poisson(i, 3.6) * 50)\n",
    "plt.plot(np.arange(0, y), p, marker = 'o', linestyle = '--', label = str(l))\n",
    "plt.hist(data, bins = len(np.unique(data)), rwidth = 0.9, color = 'lightgreen')\n",
    "plt.xlim(-1, 8)\n",
    "plt.xlabel('y')\n",
    "plt.ylabel('Prob')\n",
    "plt.legend(title = 'lambda', loc = 'upper right')\n",
    "plt.show()"
   ]
  },
  {
   "cell_type": "markdown",
   "metadata": {},
   "source": [
    "### 対数尤度が最大になる$\\lambda$を$\\hat{\\lambda}$とする\n",
    "対数尤度関数が最大値で関数の傾きがゼロとなる$\\lambda$を探す  \n",
    "種子データセットの場合\n",
    "### $ \\frac{\\partial \\log L(\\lambda)}{\\partial \\lambda}= \\sum_{i} \\left( \\frac{y_i}{\\lambda} - 1 \\right) = \\frac{1}{\\lambda} \\sum_{i} y_i - 50 $\n",
    "### $\\hat{\\lambda} = \\frac{1}{50} \\sum_{i} y_i = データの標本平均 = 3.56$"
   ]
  },
  {
   "cell_type": "code",
   "execution_count": 57,
   "metadata": {
    "collapsed": false
   },
   "outputs": [
    {
     "data": {
      "image/png": "[encoded data removed]",
      "text/plain": [
       "<matplotlib.figure.Figure at 0x11c540438>"
      ]
     },
     "metadata": {},
     "output_type": "display_data"
    }
   ],
   "source": [
    "lamb = np.arange(2.0, 5.0, 0.05)\n",
    "L = []\n",
    "for i in range(len(lamb)):\n",
    "    L.append(log_l(data, lamb[i]))\n",
    "\n",
    "plt.plot(lamb, L)\n",
    "p = plt.vlines([3.56], np.min(L), np.max(L), \"blue\", linestyles='--', label = 'lambda = 3.56')\n",
    "plt.xlabel('Lambda')\n",
    "plt.ylabel('Log likelihood')\n",
    "plt.legend(loc = 'upper left')\n",
    "plt.show()"
   ]
  },
  {
   "cell_type": "markdown",
   "metadata": {},
   "source": [
    "### 尤度と最尤推定について一般化\n",
    "$\\theta$をパラメータとする確率分布から観測データ$y_i$が発生した場合，その確率を$p(y|\\theta)$とすると尤度は\n",
    "<div style=\"text-align: center;\">\n",
    "$L(\\theta | {\\bf Y}) = \\prod_{i} p(y_i | \\theta)$\n",
    "</div>\n",
    "対数尤度は\n",
    "<div style=\"text-align: center;\">\n",
    "$\\log L(\\theta | {\\bf Y}) = \\sum_{i} \\log p(y_i | \\theta)$\n",
    "</div>\n",
    "となる．  \n",
    "最尤推定とは，この対数尤度を最大にするような$\\hat{\\theta}$を探すこと．"
   ]
  },
  {
   "cell_type": "markdown",
   "metadata": {},
   "source": [
    "### 擬似乱数と最尤推定測定値のばらつき\n",
    "乱数生成関数が生成する乱数列は毎回異なる -> 標本平均も試行ごとに異なる  \n",
    "lambda = 3.5でデータを生成し，標本平均を記録"
   ]
  },
  {
   "cell_type": "code",
   "execution_count": 66,
   "metadata": {
    "collapsed": false
   },
   "outputs": [],
   "source": [
    "sample_means = []\n",
    "for i in range(3000):\n",
    "    poi = np.random.poisson(3.5, 50)\n",
    "    sample_means.append(np.mean(poi))"
   ]
  },
  {
   "cell_type": "code",
   "execution_count": 67,
   "metadata": {
    "collapsed": false
   },
   "outputs": [
    {
     "data": {
      "image/png": "[encoded data removed]",
      "text/plain": [
       "<matplotlib.figure.Figure at 0x11b5f2630>"
      ]
     },
     "metadata": {},
     "output_type": "display_data"
    }
   ],
   "source": [
    "plt.hist(sample_means, bins = 20, rwidth = 0.9, color = 'lightgreen')\n",
    "plt.xlabel('predicted lamda')\n",
    "plt.show()"
   ]
  },
  {
   "cell_type": "markdown",
   "metadata": {},
   "source": [
    "## 統計モデルの要点：乱数発生・推定・予測\n",
    "「こういうばらつきのあるデータは，何かの確率分布から発生したと考えれば扱いやすそうだなぁ」と考えることが統計モデリングの第一歩\n",
    "- 統計モデルの確率分布を使って乱数を発生させることができる．（サンプリング）\n",
    "- 「パラメータ$\\lambda$はどんな値？」という問いに答えるのが推定，あるいは当てはめという．\n",
    "\n",
    "\n",
    "### 予測の良さ\n",
    "当てはまりの良さ（対数尤度）を評価したい．"
   ]
  },
  {
   "cell_type": "markdown",
   "metadata": {},
   "source": [
    "## 確率分布の選び方\n",
    "- 説明したい量は離散か連続か\n",
    "- 説明したい量の範囲は\n",
    "- 説明したい量の標本分散と標本平均の関係は\n",
    "\n",
    "### ポアソン分布\n",
    "- データが離散値\n",
    "- ゼロ以上の範囲\n",
    "- 上限特になし\n",
    "- 平均 $\\approx$ 分散\n",
    "\n",
    "### 二項分布\n",
    "- データが離散値\n",
    "- ゼロ以上で有限の範囲\n",
    "- 分散は平均の関数\n",
    "\n",
    "### 正規分布\n",
    "- データが連続値\n",
    "- 範囲が$[ - \\infty, \\infty]$\n",
    "- 分散は平均とは無関係に決まる\n",
    "\n",
    "### ガンマ分布\n",
    "- データが連続値\n",
    "- 範囲が$[0, \\infty]$\n",
    "- 分散は平均の関数"
   ]
  }
 ],
 "metadata": {
  "kernelspec": {
   "display_name": "Python 3",
   "language": "python",
   "name": "python3"
  },
  "language_info": {
   "codemirror_mode": {
    "name": "ipython",
    "version": 3
   },
   "file_extension": ".py",
   "mimetype": "text/x-python",
   "name": "python",
   "nbconvert_exporter": "python",
   "pygments_lexer": "ipython3",
   "version": "3.6.0"
  }
 },
 "nbformat": 4,
 "nbformat_minor": 2
}
